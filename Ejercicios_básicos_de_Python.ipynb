{
  "nbformat": 4,
  "nbformat_minor": 0,
  "metadata": {
    "colab": {
      "name": "Ejercicios_básicos_de_Python.ipynb",
      "provenance": []
    },
    "kernelspec": {
      "name": "python3",
      "display_name": "Python 3"
    },
    "language_info": {
      "name": "python"
    }
  },
  "cells": [
    {
      "cell_type": "markdown",
      "metadata": {
        "id": "RL-pITQqPt9a"
      },
      "source": [
        "1. Crea una lista denominada \"islas\" con los nombres de las Islas Canarias (sin La Graciosa)"
      ]
    },
    {
      "cell_type": "code",
      "metadata": {
        "id": "abaASqF3NzvC"
      },
      "source": [
        "islas = [\"Lanzarote\", \"Fuerteventura\", \"Gran Canaria\", \"Tenerife\", \"La Palma\", \"La Gomera\", \"El Hierro\"]"
      ],
      "execution_count": 3,
      "outputs": []
    },
    {
      "cell_type": "markdown",
      "metadata": {
        "id": "F0uHBoNIQaol"
      },
      "source": [
        "2. Muestre el tipo de dato de \"islas\""
      ]
    },
    {
      "cell_type": "code",
      "metadata": {
        "id": "CzJ2FodVOJmJ",
        "outputId": "dba03d99-ef15-4d73-83ff-2c417d1e04eb",
        "colab": {
          "base_uri": "https://localhost:8080/"
        }
      },
      "source": [
        "type(islas)"
      ],
      "execution_count": 4,
      "outputs": [
        {
          "output_type": "execute_result",
          "data": {
            "text/plain": [
              "list"
            ]
          },
          "metadata": {},
          "execution_count": 4
        }
      ]
    },
    {
      "cell_type": "markdown",
      "metadata": {
        "id": "vtIi_BKuQhzB"
      },
      "source": [
        "3. ¿Cuántos elementos tiene la lista?"
      ]
    },
    {
      "cell_type": "code",
      "metadata": {
        "id": "whdQfiQ0Od5E",
        "outputId": "f34c99d1-7d9a-4c2c-8d8d-3a15b0230739",
        "colab": {
          "base_uri": "https://localhost:8080/"
        }
      },
      "source": [
        "len(islas)"
      ],
      "execution_count": 5,
      "outputs": [
        {
          "output_type": "execute_result",
          "data": {
            "text/plain": [
              "7"
            ]
          },
          "metadata": {},
          "execution_count": 5
        }
      ]
    },
    {
      "cell_type": "markdown",
      "metadata": {
        "id": "jdjxinSmQ07Z"
      },
      "source": [
        "4. Muestra el primer elemento de la lista. Muestre después el cuarto elemento de la lista"
      ]
    },
    {
      "cell_type": "code",
      "metadata": {
        "id": "SLRv8PpdOj00",
        "outputId": "b351031f-2939-4bc6-d2d2-760c659a681e",
        "colab": {
          "base_uri": "https://localhost:8080/"
        }
      },
      "source": [
        "print(islas[0])\n",
        "print(islas[3])"
      ],
      "execution_count": 7,
      "outputs": [
        {
          "output_type": "stream",
          "name": "stdout",
          "text": [
            "Lanzarote\n",
            "Tenerife\n"
          ]
        }
      ]
    },
    {
      "cell_type": "markdown",
      "metadata": {
        "id": "92cUTXBLRKnG"
      },
      "source": [
        "5. Muestra el tipo de dato del primer elemento de la lista"
      ]
    },
    {
      "cell_type": "code",
      "metadata": {
        "id": "pwpUDz7lOwcE",
        "outputId": "46a35474-5f67-4ad9-a6ac-88a26017a95a",
        "colab": {
          "base_uri": "https://localhost:8080/"
        }
      },
      "source": [
        "type(islas[0])"
      ],
      "execution_count": 8,
      "outputs": [
        {
          "output_type": "execute_result",
          "data": {
            "text/plain": [
              "str"
            ]
          },
          "metadata": {},
          "execution_count": 8
        }
      ]
    },
    {
      "cell_type": "markdown",
      "metadata": {
        "id": "0ZOTl4bnRQj2"
      },
      "source": [
        "6. Ordena la lista \"islas\" por orden alfabético y muéstrela en pantalla"
      ]
    },
    {
      "cell_type": "code",
      "metadata": {
        "id": "N9dcOo2zPB-l",
        "outputId": "914c605c-bd46-4c13-e19c-580efc692893",
        "colab": {
          "base_uri": "https://localhost:8080/"
        }
      },
      "source": [
        "sorted(islas)"
      ],
      "execution_count": 9,
      "outputs": [
        {
          "output_type": "execute_result",
          "data": {
            "text/plain": [
              "['El Hierro',\n",
              " 'Fuerteventura',\n",
              " 'Gran Canaria',\n",
              " 'La Gomera',\n",
              " 'La Palma',\n",
              " 'Lanzarote',\n",
              " 'Tenerife']"
            ]
          },
          "metadata": {},
          "execution_count": 9
        }
      ]
    },
    {
      "cell_type": "markdown",
      "metadata": {
        "id": "SoBsVMqwTK5m"
      },
      "source": [
        "7. Muestra el último elemento de la lista"
      ]
    },
    {
      "cell_type": "code",
      "metadata": {
        "id": "X2VDAzSbPNix",
        "outputId": "e93044d8-fb54-44cc-cbdf-70b68d42a614",
        "colab": {
          "base_uri": "https://localhost:8080/",
          "height": 35
        }
      },
      "source": [
        "islas[-1]"
      ],
      "execution_count": 10,
      "outputs": [
        {
          "output_type": "execute_result",
          "data": {
            "application/vnd.google.colaboratory.intrinsic+json": {
              "type": "string"
            },
            "text/plain": [
              "'El Hierro'"
            ]
          },
          "metadata": {},
          "execution_count": 10
        }
      ]
    },
    {
      "cell_type": "markdown",
      "metadata": {
        "id": "B-a55S5hTaYJ"
      },
      "source": [
        "8. Muestra los tres primeros elementos de la lista"
      ]
    },
    {
      "cell_type": "code",
      "metadata": {
        "id": "UcDhtjVwPSYZ",
        "outputId": "c4ba0734-df12-47aa-c17c-12ea7c813d30",
        "colab": {
          "base_uri": "https://localhost:8080/"
        }
      },
      "source": [
        "islas[:3]"
      ],
      "execution_count": 12,
      "outputs": [
        {
          "output_type": "execute_result",
          "data": {
            "text/plain": [
              "['Lanzarote', 'Fuerteventura', 'Gran Canaria']"
            ]
          },
          "metadata": {},
          "execution_count": 12
        }
      ]
    },
    {
      "cell_type": "markdown",
      "metadata": {
        "id": "Nn98RkJwToVq"
      },
      "source": [
        "9. Muestra los dos últimos elementos de la lista"
      ]
    },
    {
      "cell_type": "code",
      "metadata": {
        "id": "uRvN3TrgPdwk",
        "outputId": "f47252ef-43eb-4bec-b608-5138a6fc91dd",
        "colab": {
          "base_uri": "https://localhost:8080/"
        }
      },
      "source": [
        "print(islas[-1])\n",
        "print(islas[-2])"
      ],
      "execution_count": 17,
      "outputs": [
        {
          "output_type": "stream",
          "name": "stdout",
          "text": [
            "El Hierro\n",
            "La Gomera\n"
          ]
        }
      ]
    },
    {
      "cell_type": "markdown",
      "metadata": {
        "id": "3wYntBwBXL3P"
      },
      "source": [
        "10. ¿Qué posición ocupa \"La Gomera\" en la lista \"islas\"?"
      ]
    },
    {
      "cell_type": "code",
      "metadata": {
        "id": "LNOrkhAdQKVC",
        "outputId": "548aeb6b-3ac6-40bc-c20d-9bf174bc38a8",
        "colab": {
          "base_uri": "https://localhost:8080/"
        }
      },
      "source": [
        "islas.index(\"La Gomera\")"
      ],
      "execution_count": 18,
      "outputs": [
        {
          "output_type": "execute_result",
          "data": {
            "text/plain": [
              "5"
            ]
          },
          "metadata": {},
          "execution_count": 18
        }
      ]
    },
    {
      "cell_type": "markdown",
      "metadata": {
        "id": "74LCirh7T434"
      },
      "source": [
        "11. Añade \"La Graciosa\" a la lista \"islas\""
      ]
    },
    {
      "cell_type": "code",
      "metadata": {
        "id": "O3QQd6_5QVqd"
      },
      "source": [
        "islas.append(\"La Graciosa\")"
      ],
      "execution_count": 23,
      "outputs": []
    },
    {
      "cell_type": "markdown",
      "metadata": {
        "id": "Ajf8AN-7Wb9K"
      },
      "source": [
        "12. Comprueba si \"La Graciosa\" está en la lista \"islas\""
      ]
    },
    {
      "cell_type": "code",
      "metadata": {
        "id": "1YPULsYmQaFz",
        "outputId": "55126215-555b-4687-c4f0-7be88e67ea4b",
        "colab": {
          "base_uri": "https://localhost:8080/"
        }
      },
      "source": [
        "print(islas)"
      ],
      "execution_count": 24,
      "outputs": [
        {
          "output_type": "stream",
          "name": "stdout",
          "text": [
            "['Lanzarote', 'Fuerteventura', 'Gran Canaria', 'Tenerife', 'La Palma', 'La Gomera', 'El Hierro', 'La Graciosa']\n"
          ]
        }
      ]
    },
    {
      "cell_type": "markdown",
      "metadata": {
        "id": "-2PaFdVfW0W1"
      },
      "source": [
        "13. Elimina \"La Graciosa\" de la lista \"islas\" y compruebe si \"La Graciosa\" está en la lista \"islas\""
      ]
    },
    {
      "cell_type": "code",
      "metadata": {
        "id": "zzcgCev2QiNP",
        "outputId": "00fe2977-1def-4a8f-a61a-43339b9ce846",
        "colab": {
          "base_uri": "https://localhost:8080/"
        }
      },
      "source": [
        "del islas[-1]\n",
        "print(islas)"
      ],
      "execution_count": 25,
      "outputs": [
        {
          "output_type": "stream",
          "name": "stdout",
          "text": [
            "['Lanzarote', 'Fuerteventura', 'Gran Canaria', 'Tenerife', 'La Palma', 'La Gomera', 'El Hierro']\n"
          ]
        }
      ]
    },
    {
      "cell_type": "markdown",
      "metadata": {
        "id": "mag-C9DnYxM1"
      },
      "source": [
        "14. Muestra los elementos de la lista de uno en uno"
      ]
    },
    {
      "cell_type": "code",
      "metadata": {
        "id": "52j0DWnSQ-Yh",
        "outputId": "8cb6ca64-d676-4f84-97d2-804188d6d7f3",
        "colab": {
          "base_uri": "https://localhost:8080/"
        }
      },
      "source": [
        "for i, isla in enumerate(islas):\n",
        "  print(isla)"
      ],
      "execution_count": 27,
      "outputs": [
        {
          "output_type": "stream",
          "name": "stdout",
          "text": [
            "Lanzarote\n",
            "Fuerteventura\n",
            "Gran Canaria\n",
            "Tenerife\n",
            "La Palma\n",
            "La Gomera\n",
            "El Hierro\n"
          ]
        }
      ]
    },
    {
      "cell_type": "markdown",
      "metadata": {
        "id": "f44HAA2IIfIZ"
      },
      "source": [
        "15. Pregúntale al usuario en qué isla reside, almacénelo en la variable isla e indique al usuario \"Resides en la isla ....\""
      ]
    },
    {
      "cell_type": "code",
      "metadata": {
        "id": "Eul8nt5ERhDr",
        "outputId": "bd8c7c4d-1816-4575-fbfc-d85fa2efef0a",
        "colab": {
          "base_uri": "https://localhost:8080/"
        }
      },
      "source": [
        "isla_usuario = input('¿En qué isla resides? ')\n",
        "print(\"Resides en la isla de\", isla_usuario)"
      ],
      "execution_count": 35,
      "outputs": [
        {
          "output_type": "stream",
          "name": "stdout",
          "text": [
            "¿En qué isla resides? Gran Canaria\n",
            "Resides en la isla de Gran Canaria\n"
          ]
        }
      ]
    },
    {
      "cell_type": "markdown",
      "metadata": {
        "id": "cIWa1oxZJCeZ"
      },
      "source": [
        "16. Comprueba si la isla está en la lista de islas y muestre un mensaje indicando \"Resides en una isla de las Islas Canarias\" en caso afirmativo o \"La isla .... no pertenece a las Islas Canarias\" en caso negativo"
      ]
    },
    {
      "cell_type": "code",
      "metadata": {
        "id": "9rYPkbhkSO0S",
        "outputId": "3d694032-09ce-4483-82eb-38002f1e0243",
        "colab": {
          "base_uri": "https://localhost:8080/"
        }
      },
      "source": [
        "if isla_usuario in islas: \n",
        "  print(\"Resides en una isla de las Islas Canarias\")\n",
        "else:\n",
        "  print(\"La isla\", isla_usuario, \"no pertenece a las Islas Canarias\")"
      ],
      "execution_count": 36,
      "outputs": [
        {
          "output_type": "stream",
          "name": "stdout",
          "text": [
            "Resides en una isla de las Islas Canarias\n"
          ]
        }
      ]
    }
  ]
}