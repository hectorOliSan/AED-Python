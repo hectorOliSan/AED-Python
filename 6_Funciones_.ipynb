{
  "nbformat": 4,
  "nbformat_minor": 0,
  "metadata": {
    "colab": {
      "name": "8 Funciones.ipynb",
      "provenance": []
    },
    "kernelspec": {
      "name": "python3",
      "display_name": "Python 3"
    },
    "language_info": {
      "name": "python"
    }
  },
  "cells": [
    {
      "cell_type": "markdown",
      "metadata": {
        "id": "Gx7dJnNvnaTy"
      },
      "source": [
        "#Funciones\n",
        "Existe una distinción teórica que me gusta remarcar acerca de las funciones que, si bien al momento de crear una no es relevante, considero importante hacer. Hay un tipo de función que puede categorizarse junto con los condicionales y los bucles: esto es, sirve para agrupar un conjunto de instrucciones bajo un mismo nombre para evitar repetirlas a lo largo del código. El otro, es el concepto de función tal como se conoce en matemática: una función obtiene un valor o un conjunto de valores de entrada, aplica una serie de operaciones y retorna un valor o un conjunto de valores de salida, un resultado.\n",
        "\n",
        "Como sea, empecemos por un ejemplo simple. Definamos una función dup(n), muy al estilo matemático, que tome como argumento un número y retorne el doble."
      ]
    },
    {
      "cell_type": "code",
      "metadata": {
        "id": "kZRIuhYMnUpn"
      },
      "source": [
        "def dup(n):\n",
        "  return n * 2"
      ],
      "execution_count": null,
      "outputs": []
    },
    {
      "cell_type": "markdown",
      "metadata": {
        "id": "7_brQGMdnrQ8"
      },
      "source": [
        "Introdujimos dos palabras reservadas nuevas. def es empleada siempre que se quiera crear una nueva función, seguida de su nombre (que, al igual que las variables, se escribe en minúscula y separada por guiones bajos) y los argumentos entre paréntesis y separados por comas. return debe estar sucedida por una expresión que será el valor de retorno de la función. Iremos aclarando estos conceptos.\n",
        "\n",
        "Por el momento, hagamos una prueba:"
      ]
    },
    {
      "cell_type": "code",
      "metadata": {
        "id": "xPSQCndyntsm"
      },
      "source": [
        "# Imprime 10 en pantalla.\n",
        "print(dup(5))"
      ],
      "execution_count": null,
      "outputs": []
    },
    {
      "cell_type": "markdown",
      "metadata": {
        "id": "Di1gLlrQnwBS"
      },
      "source": [
        "Ahora consideremos esta otra definición."
      ]
    },
    {
      "cell_type": "code",
      "metadata": {
        "colab": {
          "base_uri": "https://localhost:8080/"
        },
        "id": "YbLLHuAbnw35",
        "outputId": "e8847e21-97d5-4ed1-fcd7-62f338f471b2"
      },
      "source": [
        "def saludar(nombre):\n",
        "  print(\"Hola\", nombre)\n",
        "\n",
        "saludar(\"mundo\")"
      ],
      "execution_count": null,
      "outputs": [
        {
          "output_type": "stream",
          "name": "stdout",
          "text": [
            "Hola mundo\n"
          ]
        }
      ]
    },
    {
      "cell_type": "code",
      "metadata": {
        "colab": {
          "base_uri": "https://localhost:8080/"
        },
        "id": "2Smh9rOrofsH",
        "outputId": "e17c12a2-d637-4ba7-af0a-6c852b8cdc0b"
      },
      "source": [
        "saludar"
      ],
      "execution_count": null,
      "outputs": [
        {
          "output_type": "execute_result",
          "data": {
            "text/plain": [
              "<function __main__.saludar>"
            ]
          },
          "metadata": {},
          "execution_count": 4
        }
      ]
    },
    {
      "cell_type": "markdown",
      "metadata": {
        "id": "76Ep2iXJn7C9"
      },
      "source": [
        "En este caso, nuestra función saludar() no retorna ningún valor. Aunque, en efecto, Python le asigna un valor de retorno por defecto llamado None. Se trata de un tipo de dato como los que hemos estado trabajando, pero un tanto más particular, ya que intenta indicar que una variable está vacía."
      ]
    },
    {
      "cell_type": "code",
      "metadata": {
        "colab": {
          "base_uri": "https://localhost:8080/"
        },
        "id": "ctfkafo5opDO",
        "outputId": "c2f540e1-2de4-45b9-f7f8-541756cb1624"
      },
      "source": [
        "a = None\n",
        "b = 3.14\n",
        "a is None, b is not None"
      ],
      "execution_count": null,
      "outputs": [
        {
          "output_type": "execute_result",
          "data": {
            "text/plain": [
              "(True, True)"
            ]
          },
          "metadata": {},
          "execution_count": 5
        }
      ]
    },
    {
      "cell_type": "markdown",
      "metadata": {
        "id": "5kNgrlIqozqy"
      },
      "source": [
        "La única diferencia, como se observa, es que para realizar comparaciones respecto de None utilizamos las palabras reservadas is e is not en lugar de == y !=."
      ]
    },
    {
      "cell_type": "markdown",
      "metadata": {
        "id": "RPydQ8c5o1y-"
      },
      "source": [
        "##Argumentos\n",
        "En Python los argumentos de las funciones tienen un comportamiento particular a diferencia de otros lenguajes. Tomemos como ejemplo la siguiente función."
      ]
    },
    {
      "cell_type": "code",
      "metadata": {
        "id": "e8E8UYKaou1_"
      },
      "source": [
        "def sumar(a, b):\n",
        "  return a + b"
      ],
      "execution_count": null,
      "outputs": []
    },
    {
      "cell_type": "markdown",
      "metadata": {
        "id": "rCVntfH7o_Zj"
      },
      "source": [
        "De ella decimos que tiene dos argumentos posicionales. Llevan ese nombre por cuanto al invocar sumar(7, 5), 7 se corresponde con a por ser el primer argumento, y 5 se corresponde con b por ser el segundo. Si lo invertimos, de modo que llamemos a sumar(5, 7), entonces ahora a == 5 y b == 7.\n",
        "\n",
        "Además, al invocar a una función con argumentos posicionales, estos siempren deben tener un valor. Por ejemplo, las siguientes llamadas arrojan un error."
      ]
    },
    {
      "cell_type": "code",
      "metadata": {
        "id": "EpOUUmjopEn8"
      },
      "source": [
        "# Falta especificar el argumento b.\n",
        "sumar(7)"
      ],
      "execution_count": null,
      "outputs": []
    },
    {
      "cell_type": "code",
      "metadata": {
        "id": "yZiRH3HIpHN8"
      },
      "source": [
        "# Sobra un argumento.\n",
        "sumar(7, 5, 3)"
      ],
      "execution_count": null,
      "outputs": []
    },
    {
      "cell_type": "markdown",
      "metadata": {
        "id": "oOO1hPUtpKCl"
      },
      "source": [
        "Ahora bien, una función puede tener argumentos con valores por defecto, de modo que, al llamarla, si no hemos especificado un valor concreto por argumento, éste toma automáticamente el que la definición le ha asignado por defecto."
      ]
    },
    {
      "cell_type": "code",
      "metadata": {
        "id": "ZL1qc-d8pMtp"
      },
      "source": [
        "def sumar(a, b=5):\n",
        "  return a + b\n",
        "# ¡Perfecto! Imprime 12.\n",
        "print(sumar(7))"
      ],
      "execution_count": null,
      "outputs": []
    },
    {
      "cell_type": "code",
      "metadata": {
        "id": "lVUXRPVupQ86"
      },
      "source": [
        "# En este caso, b == 10.\n",
        "print(sumar(5, 10))"
      ],
      "execution_count": null,
      "outputs": []
    },
    {
      "cell_type": "markdown",
      "metadata": {
        "id": "zKQHZlnvpVl2"
      },
      "source": [
        "Agreguemos, para avanzar un poco más, un tercer argumento c con un valor por defecto."
      ]
    },
    {
      "cell_type": "code",
      "metadata": {
        "id": "2_VLYKONpXiG"
      },
      "source": [
        "def sumar(a, b=5, c=10):\n",
        "  return a + b + c\n",
        "\n",
        "# Imprime 22 (7 + 5 + 10).\n",
        "print(sumar(7))"
      ],
      "execution_count": null,
      "outputs": []
    },
    {
      "cell_type": "markdown",
      "metadata": {
        "id": "Y6xQTvKdpeyF"
      },
      "source": [
        "¿Qué ocurre si quiero indicar un valor para el argumento c mientras que b mantenga su valor por defecto? En ese caso, en lugar de pasar el argumento por posición, lo voy a pasar por nombre."
      ]
    },
    {
      "cell_type": "code",
      "metadata": {
        "id": "7BmqTb7fpgvS"
      },
      "source": [
        "# Imprime 32 (7 + 5 + 20).\n",
        "print(sumar(7, c=20))"
      ],
      "execution_count": null,
      "outputs": []
    },
    {
      "cell_type": "markdown",
      "metadata": {
        "id": "wlaZ3FbYpjzv"
      },
      "source": [
        "La posibilidad de pasar argumentos por su nombre en la llamada a una función solo puede darse en aquellos que tengan un valor por defecto. De ahí que a estos se los conozca como argumentos por nombre. En estos casos, la posición de los argumentos es indistinta, de modo que el siguiente código es perfectamente válido."
      ]
    },
    {
      "cell_type": "code",
      "metadata": {
        "id": "S4goyuelpjg7"
      },
      "source": [
        "# El orden es indistinto en los argumentos por nombre.\n",
        "print(sumar(7, c=20, b=10))"
      ],
      "execution_count": null,
      "outputs": []
    },
    {
      "cell_type": "markdown",
      "metadata": {
        "id": "YnzXVaZJponu"
      },
      "source": [
        "(Nótese que, por convención, cuando especificamos el valor de un argumento por nombre no se ubican espacios alrededor del signo igual).\n",
        "\n",
        "La única restricción es que los argumentos posicionales deben preceder a los argumentos por nombre, tanto en la definición de una función como en la llamada. El siguiente ejemplo no es un código válido de Python."
      ]
    },
    {
      "cell_type": "code",
      "metadata": {
        "id": "bx0D4G5Ap3Yh"
      },
      "source": [
        "# ¡¡¡Inválido!!!\n",
        "def sumar(a=5, b):\n",
        "  return a + b"
      ],
      "execution_count": null,
      "outputs": []
    },
    {
      "cell_type": "markdown",
      "metadata": {
        "id": "PD9SHw5Hp-FO"
      },
      "source": [
        "##Documentación en funciones\n",
        "Cuando diseñamos una función, lo ideal es documentar su comportamiento utilizando comillas triples inmediatamente luego de su definición."
      ]
    },
    {
      "cell_type": "code",
      "metadata": {
        "id": "kW_sZXhuqG9i"
      },
      "source": [
        "def dup(n):\n",
        "  \"\"\"\n",
        "  Retorna el doble de `n`.\n",
        "  \"\"\"\n",
        "  return n * 2"
      ],
      "execution_count": null,
      "outputs": []
    },
    {
      "cell_type": "markdown",
      "metadata": {
        "id": "KbzLq0fnqMcf"
      },
      "source": [
        "Si bien en la documentación de una función podemos escribir lo que se nos antoje, ¡no es lo mismo que un comentario! En realidad, como habrás observado, es una cadena de Python, que luego el intérprete le asignará como un atributo a la función. Para conocer el docstring (este es el término correcto) de una función podemos emplear la función incorporada help()."
      ]
    },
    {
      "cell_type": "code",
      "metadata": {
        "id": "k6Vbb1iaqMAv"
      },
      "source": [
        "# Imprime la documentación en pantalla.\n",
        "help(dup)"
      ],
      "execution_count": null,
      "outputs": []
    },
    {
      "cell_type": "markdown",
      "metadata": {
        "id": "WxHNuqWwqYA-"
      },
      "source": [
        "Esta función es especialmente útil en la consola, dado que te permite conocer el funcionamiento y la estructura de argumentos de todas las funciones incorporadas."
      ]
    },
    {
      "cell_type": "code",
      "metadata": {
        "id": "yyJ237kQqY1M"
      },
      "source": [
        "help(print)"
      ],
      "execution_count": null,
      "outputs": []
    },
    {
      "cell_type": "code",
      "metadata": {
        "id": "54uZyzPwqZWJ"
      },
      "source": [
        "help(int)"
      ],
      "execution_count": null,
      "outputs": []
    },
    {
      "cell_type": "markdown",
      "metadata": {
        "id": "K9GrJ52Ds5Wr"
      },
      "source": [
        "##Argumentos en funciones (*args y **kwargs)\n",
        "Existen dos tipos de argumentos en Python: los convencionales y aquellos que están sujetos a un nombre específico, generalmente identificados como args (arguments) y kwargs (keyword arguments), respectivamente. Encontrar un término en el español para estos últimos resulta algo complejo, equivaldría a «argumentos de palabras clave», así que simplemente los llamaremos por su nombre original."
      ]
    },
    {
      "cell_type": "code",
      "metadata": {
        "id": "EWv5RD51tFHe"
      },
      "source": [
        "def f(a, b, c):\n",
        "  return a + b*c"
      ],
      "execution_count": null,
      "outputs": []
    },
    {
      "cell_type": "markdown",
      "metadata": {
        "id": "qH1M8Vt5tI0S"
      },
      "source": [
        "Ésta es la notación convencional, en donde los tres argumentos son requeridos. En caso de no ser especificados, Python lanza una excepción."
      ]
    },
    {
      "cell_type": "code",
      "metadata": {
        "id": "HPPuFjlstMdU"
      },
      "source": [
        "f(2, 5)\n"
      ],
      "execution_count": null,
      "outputs": []
    },
    {
      "cell_type": "markdown",
      "metadata": {
        "id": "O6s3HWaGtUCS"
      },
      "source": [
        "Sin embargo, todos los argumentos pueden tener un valor por defecto en caso de que no sean especificados."
      ]
    },
    {
      "cell_type": "code",
      "metadata": {
        "id": "LO61PSW-tXT3"
      },
      "source": [
        "def h(a, b=4, c=2):\n",
        "  return a + b*c"
      ],
      "execution_count": null,
      "outputs": []
    },
    {
      "cell_type": "markdown",
      "metadata": {
        "id": "Ic1fJ2e7tbPE"
      },
      "source": [
        "En este caso, Python lanzará una excepción únicamente cuando a no tenga un valor."
      ]
    },
    {
      "cell_type": "code",
      "metadata": {
        "id": "I0Zb83-4uDRy"
      },
      "source": [
        "h(1)  # a=1, b=4 y c=2"
      ],
      "execution_count": null,
      "outputs": []
    },
    {
      "cell_type": "code",
      "metadata": {
        "id": "29EiMQVVuDFd"
      },
      "source": [
        "h()"
      ],
      "execution_count": null,
      "outputs": []
    },
    {
      "cell_type": "markdown",
      "metadata": {
        "id": "ggoYvoWUtuhj"
      },
      "source": [
        "Cuando en una función uno de sus argumentos lleva un valor por defecto, éste se convierte automáticamente en un keyword argument o argumento clave-valor, tal como un diccionario. Por lo tanto, pueden ser especificados indicando su nombre al momento de invocarlos. Por ejemplo, si se quiere pasar un valor en el argumento c mientras que b mantenga aquél por defecto."
      ]
    },
    {
      "cell_type": "code",
      "metadata": {
        "id": "XgBF1Oy-tz_T"
      },
      "source": [
        "h(1, c=10)"
      ],
      "execution_count": null,
      "outputs": []
    },
    {
      "cell_type": "markdown",
      "metadata": {
        "id": "x8WhsiEGt3zD"
      },
      "source": [
        "Y viceversa, por lo que ambos ejemplos a continuación resultan en lo mismo."
      ]
    },
    {
      "cell_type": "code",
      "metadata": {
        "id": "YUwwbZ_kt77M"
      },
      "source": [
        "h(1, b=5)"
      ],
      "execution_count": null,
      "outputs": []
    },
    {
      "cell_type": "code",
      "metadata": {
        "id": "Y3wK7ZU3t84w"
      },
      "source": [
        "h(1, 5)"
      ],
      "execution_count": null,
      "outputs": []
    },
    {
      "cell_type": "markdown",
      "metadata": {
        "id": "bvjEk0NEuMlr"
      },
      "source": [
        "Al indicar el nombre de los argumentos clave-valor, las posiciones de estos son indiferentes."
      ]
    },
    {
      "cell_type": "code",
      "metadata": {
        "id": "sREkiJKGuWPf"
      },
      "source": [
        "h(1, c=10, b=6)"
      ],
      "execution_count": null,
      "outputs": []
    },
    {
      "cell_type": "code",
      "metadata": {
        "id": "De32wGfkuVh5"
      },
      "source": [
        "h(1, 6, 10)"
      ],
      "execution_count": null,
      "outputs": []
    },
    {
      "cell_type": "markdown",
      "metadata": {
        "id": "zAGjjwZaudbM"
      },
      "source": [
        "Los argumentos pueden llevar cualquier valor por defecto, incluyendo None y llamadas a otras funciones."
      ]
    },
    {
      "cell_type": "code",
      "metadata": {
        "id": "0-WbDnUduf3s"
      },
      "source": [
        "def a(c=None):\n",
        "  return 100\n",
        "\n",
        "def b(n=a()):\n",
        "  return n + 50\n",
        "\n",
        "b()"
      ],
      "execution_count": null,
      "outputs": []
    },
    {
      "cell_type": "markdown",
      "metadata": {
        "id": "3Cvn-zybuo6e"
      },
      "source": [
        "Una de las principales diferencias entre los dos tipos de argumentos, como observamos anteriormente, es que los convencionales son posicionales, mientras que en los keyword arguments su ubicación es indistinta.\n",
        "\n",
        "Al ser un lenguaje interpretado Python presenta mucha flexibilidad. Por ejemplo, para que una función tome una cantidad indefinida de argumentos, se utiliza la expresión *args."
      ]
    },
    {
      "cell_type": "code",
      "metadata": {
        "id": "8DiMHLrRuyEe"
      },
      "source": [
        "def f(*args):\n",
        "  return args\n",
        "\n",
        "f(1, 5, True, False, \"Hello, world!\")"
      ],
      "execution_count": null,
      "outputs": []
    },
    {
      "cell_type": "markdown",
      "metadata": {
        "id": "hP8sNEscu4YW"
      },
      "source": [
        "En este caso, args es una tupla que contiene todos los valores que se han pasado a la función. El signo asterisco (*) es utilizado para indicar dicha funcionalidad; de lo contrario, únicamente el primer argumento sería almacenado en args.\n",
        "\n",
        "Dado que todos los argumentos serán guardados en el primer parámetro (args), Python lanzará una excepción al intentar especificar algún otro luego de éste."
      ]
    },
    {
      "cell_type": "code",
      "metadata": {
        "colab": {
          "base_uri": "https://localhost:8080/",
          "height": 128
        },
        "id": "NBDUnibmu-6O",
        "outputId": "ffb9a6e7-c050-4077-ec02-396503b6370f"
      },
      "source": [
        "def f(*args, b):"
      ],
      "execution_count": null,
      "outputs": [
        {
          "output_type": "error",
          "ename": "SyntaxError",
          "evalue": "ignored",
          "traceback": [
            "\u001b[0;36m  File \u001b[0;32m\"<ipython-input-6-fe80a3197a16>\"\u001b[0;36m, line \u001b[0;32m1\u001b[0m\n\u001b[0;31m    def f(*args, b):\u001b[0m\n\u001b[0m                    ^\u001b[0m\n\u001b[0;31mSyntaxError\u001b[0m\u001b[0;31m:\u001b[0m unexpected EOF while parsing\n"
          ]
        }
      ]
    },
    {
      "cell_type": "markdown",
      "metadata": {
        "id": "kJrjKIURvFYy"
      },
      "source": [
        "De forma análoga funcionan los keyword arguments, que son representados con dos asteriscos (**) y el nombre kwargs. Cabe destacar que los nombres de estos parámetros son indiferentes; args y kwargs son utilizados simplemente por convención."
      ]
    },
    {
      "cell_type": "code",
      "metadata": {
        "id": "CW2wpmL8u_sj"
      },
      "source": [
        "def f(**kwargs):\n",
        "  return kwargs\n",
        "\n",
        "f(a=1, b=True, h=50, z=\"Hello, world!\")\n",
        "{'a': 1, 'h': 50, 'b': True, 'z': 'Hello, world!'}"
      ],
      "execution_count": null,
      "outputs": []
    },
    {
      "cell_type": "markdown",
      "metadata": {
        "id": "tyhmP7MZvWN0"
      },
      "source": [
        "En este caso kwargs es un diccionario que contiene el nombre de cada uno de los argumentos junto con su valor. Siendo esto así, el orden de los mismos es indistinto.\n",
        "\n",
        "Ambos métodos pueden ser implementados en una misma función como excepción al error de sintaxis."
      ]
    },
    {
      "cell_type": "code",
      "metadata": {
        "id": "azD1fel6vZet"
      },
      "source": [
        "def f(*args, **kwargs):\n",
        "  return args, kwargs\n",
        "\n",
        "args, kwargs = f(True, False, 3.5, message=\"Hello, world!\", year=2014)\n",
        "args"
      ],
      "execution_count": null,
      "outputs": []
    },
    {
      "cell_type": "code",
      "metadata": {
        "id": "c-n--aqZvf9k"
      },
      "source": [
        "kwargs"
      ],
      "execution_count": null,
      "outputs": []
    },
    {
      "cell_type": "markdown",
      "metadata": {
        "id": "dKB5e0OjvnNC"
      },
      "source": [
        "Los signos * y ** pueden también ser utilizados para almacenar argumentos en un objeto para ser pasados luego a una función. Considerando la función:"
      ]
    },
    {
      "cell_type": "code",
      "metadata": {
        "id": "R4n96tWyvqHc"
      },
      "source": [
        "def f(a, b, c):\n",
        "  return a*b**c"
      ],
      "execution_count": null,
      "outputs": []
    },
    {
      "cell_type": "markdown",
      "metadata": {
        "id": "BtBvguJnvtTe"
      },
      "source": [
        "El siguiente código…"
      ]
    },
    {
      "cell_type": "code",
      "metadata": {
        "colab": {
          "base_uri": "https://localhost:8080/"
        },
        "id": "6xP4LIE5vvv7",
        "outputId": "b7a99421-7d9d-420b-de58-41e62474817a"
      },
      "source": [
        "argumentos = (5, 10, 2)\n",
        "f(*argumentos)"
      ],
      "execution_count": null,
      "outputs": [
        {
          "output_type": "execute_result",
          "data": {
            "text/plain": [
              "500"
            ]
          },
          "metadata": {},
          "execution_count": 9
        }
      ]
    },
    {
      "cell_type": "markdown",
      "metadata": {
        "id": "PvDoczMMv2je"
      },
      "source": [
        "…resulta similar a:"
      ]
    },
    {
      "cell_type": "code",
      "metadata": {
        "colab": {
          "base_uri": "https://localhost:8080/"
        },
        "id": "BAk-CrJmv3iP",
        "outputId": "304dde8f-852a-4b99-d134-fbf1a1bbe4f8"
      },
      "source": [
        "f(5, 10, 2)"
      ],
      "execution_count": null,
      "outputs": [
        {
          "output_type": "execute_result",
          "data": {
            "text/plain": [
              "500"
            ]
          },
          "metadata": {},
          "execution_count": 10
        }
      ]
    },
    {
      "cell_type": "code",
      "metadata": {
        "colab": {
          "base_uri": "https://localhost:8080/",
          "height": 161
        },
        "id": "4eO2LyGWv-Gy",
        "outputId": "961b96e8-488c-438c-e3ad-a253cf929421"
      },
      "source": [
        "f(argumentos)"
      ],
      "execution_count": null,
      "outputs": [
        {
          "output_type": "error",
          "ename": "TypeError",
          "evalue": "ignored",
          "traceback": [
            "\u001b[0;31m---------------------------------------------------------------------------\u001b[0m",
            "\u001b[0;31mTypeError\u001b[0m                                 Traceback (most recent call last)",
            "\u001b[0;32m<ipython-input-11-0ee1c0499421>\u001b[0m in \u001b[0;36m<module>\u001b[0;34m()\u001b[0m\n\u001b[0;32m----> 1\u001b[0;31m \u001b[0mf\u001b[0m\u001b[0;34m(\u001b[0m\u001b[0margumentos\u001b[0m\u001b[0;34m)\u001b[0m\u001b[0;34m\u001b[0m\u001b[0;34m\u001b[0m\u001b[0m\n\u001b[0m",
            "\u001b[0;31mTypeError\u001b[0m: f() missing 2 required positional arguments: 'b' and 'c'"
          ]
        }
      ]
    },
    {
      "cell_type": "markdown",
      "metadata": {
        "id": "etTBzSwSwJMo"
      },
      "source": [
        "De la misma forma funcionan los keyword arguments."
      ]
    },
    {
      "cell_type": "code",
      "metadata": {
        "id": "QZ566tXlwMbk"
      },
      "source": [
        "def f(message=\"Hello\", name=None):\n",
        "  print(\"{0}, {1}!\".format(message, name))\n",
        "\n",
        "kwargs = {\"message\": \"Hola\", \"name\": \"mundo\"}\n",
        "f(**kwargs)"
      ],
      "execution_count": null,
      "outputs": []
    },
    {
      "cell_type": "code",
      "metadata": {
        "id": "5gGIpF1Wv_cD"
      },
      "source": [
        ""
      ],
      "execution_count": null,
      "outputs": []
    }
  ]
}